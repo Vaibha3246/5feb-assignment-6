{
 "cells": [
  {
   "cell_type": "code",
   "execution_count": null,
   "id": "6e3b5d8f-375d-439a-95b5-057f77ebbc32",
   "metadata": {},
   "outputs": [],
   "source": [
    " question 1: Explain Class and Object with respect to Object-Oriented Programming. Give a suitable example."
   ]
  },
  {
   "cell_type": "code",
   "execution_count": null,
   "id": "cf577087-9abc-4fce-9185-322da271d64f",
   "metadata": {},
   "outputs": [],
   "source": [
    "ans---A class is a user-defined blueprint or prototype from which objects are created.\n",
    "Classes provide a means of bundling data and functionality together. \n",
    "Creating a new class creates a new type of object, allowing new instances of that type to be made.\n",
    "Each class instance can have attributes attached to it for maintaining its state.\n",
    "Class instances can also have methods (defined by their class) for modifying their state.\n",
    "An Object is an instance of a Class.\n",
    "A class is like a blueprint while an instance is a copy of the class with actual values."
   ]
  },
  {
   "cell_type": "code",
   "execution_count": 1,
   "id": "be4677c3-41e8-4e2c-afb3-f610a0d68dc4",
   "metadata": {},
   "outputs": [
    {
     "name": "stdout",
     "output_type": "stream",
     "text": [
      "Fido\n",
      "Feline\n"
     ]
    }
   ],
   "source": [
    "# here an example to illustrate this concept:\n",
    "class Animal:\n",
    "    def __init__(self, name, species):\n",
    "        self.name = name\n",
    "        self.species = species\n",
    "    \n",
    "    def speak(self):\n",
    "        print(\"\")\n",
    "\n",
    "dog = Animal(\"Fido\", \"Canine\")\n",
    "cat = Animal(\"Fluffy\", \"Feline\")\n",
    "\n",
    "print(dog.name)   \n",
    "print(cat.species)  \n"
   ]
  },
  {
   "cell_type": "code",
   "execution_count": null,
   "id": "8397c037-c8bd-4314-a312-3d9800e545c4",
   "metadata": {},
   "outputs": [],
   "source": [
    "Q2. Name the four pillars of OOPs."
   ]
  },
  {
   "cell_type": "code",
   "execution_count": null,
   "id": "c535669a-c9c0-49a4-bea4-9eb30c1dc1ce",
   "metadata": {},
   "outputs": [],
   "source": [
    "ans :These four pillars are Inheritance, Polymorphism, Encapsulation and Abstraction.'\n",
    "\n",
    "1.Encapsulation: Encapsulation refers to the practice of hiding the internal workings of an object from the outside world, \n",
    "and only exposing the necessary information through methods and interfaces. This helps to prevent outside interference\n",
    "and allows for easier maintenance and updates.\n",
    "\n",
    "2.Abstraction: Abstraction involves simplifying complex systems by focusing on the essential features and ignoring the rest.\n",
    "This allows for the creation of more generalized and reusable classes, as well as easier maintenance.\n",
    "\n",
    "3.Inheritance: Inheritance is the ability for a new class to be based on an existing class, inheriting all of its attributes \n",
    "and methods. This allows for the creation of more specialized classes that can reuse and build upon the behavior of their parent \n",
    "classes.\n",
    "\n",
    "4.Polymorphism: Polymorphism refers to the ability of different objects to respond to the same message or method call in different\n",
    "ways. This allows for greater flexibility and extensibility in the design of the code."
   ]
  },
  {
   "cell_type": "code",
   "execution_count": null,
   "id": "35df4a00-f9ee-4a91-b9fb-c8b551deb25a",
   "metadata": {},
   "outputs": [],
   "source": [
    "Q3. Explain why the __init__() function is used. Give a suitable example.\n",
    "\n",
    "ans---The __init__ is besically a cnstructor in python.Constructors are used to initializing the object’s state. \n",
    "The task of constructors is to initialize(assign values) to the data members of the class when an object of the class is \n",
    "created. Like methods, a constructor also contains a collection of statements(i.e. instructions)\n",
    "that are executed at the time of Object creation. It is run as soon as an object of a class is instantiated.\n",
    "The method is useful to do any initialization you want to do with your object.\n",
    "The __init__ function is called every time an object is created from a class.\n",
    "The __init__ method lets the class initialize the object's attributes and serves no other purpose.\n",
    "It is only used within classes.\"\"\""
   ]
  },
  {
   "cell_type": "code",
   "execution_count": 4,
   "id": "1c025d11-8692-44ea-a34a-91a3e7309534",
   "metadata": {},
   "outputs": [
    {
     "name": "stdout",
     "output_type": "stream",
     "text": [
      "hello ,my name is  Shashi\n"
     ]
    }
   ],
   "source": [
    "class Person:\n",
    " \n",
    "    def __init__(self, name):\n",
    "        self.name = name\n",
    "    def say_hi(self):\n",
    "        print(\"hello ,my name is \" ,self.name)\n",
    " \n",
    "p = Person('Shashi')\n",
    "p.say_hi()"
   ]
  },
  {
   "cell_type": "code",
   "execution_count": null,
   "id": "2599d3f7-2cce-4b1a-888d-c85eb2fcc82e",
   "metadata": {},
   "outputs": [],
   "source": []
  },
  {
   "cell_type": "code",
   "execution_count": null,
   "id": "78f24d6f-1c61-4e10-8c86-03f567d8498e",
   "metadata": {},
   "outputs": [],
   "source": [
    "Q4. Why self is used in OOPs?"
   ]
  },
  {
   "cell_type": "code",
   "execution_count": null,
   "id": "8353bb2c-37ec-45c7-84f9-e41f6cd86cc3",
   "metadata": {},
   "outputs": [],
   "source": [
    "In Object-Oriented Programming (OOP), self is a reference to the instance of the class that is being manipulated. \n",
    "It is a convention in many OOP languages (such as Python) to use the name self as the first parameter of instance methods, to refer to the instance itself.\n",
    "\n",
    "The use of self is important in OOP for several reasons:\n",
    "\n",
    "It allows instance methods to access and modify the attributes of the instance they belong to. Without self, \n",
    "there would be no way for an instance method to know which instance it was being called on, and therefore no way to access\n",
    "or modify its attributes.\n",
    "\n",
    "It allows for the creation of multiple instances of the same class, each with its own set of attributes and behavior. \n",
    "By using self to refer to the current instance, we can ensure that each instance is manipulated independently.\n",
    "\n",
    "It helps to avoid naming conflicts between instance attributes and method parameters. By convention, instance attributes\n",
    "are usually given names that start with an underscore or a double underscore, to differentiate them from method parameters. \n",
    "Using self as the first parameter of instance methods helps to make this convention clear.\n",
    "\n",
    "Overall, self is a key component of OOP and is essential for creating robust and reusable code."
   ]
  },
  {
   "cell_type": "code",
   "execution_count": null,
   "id": "1a254d7c-9b06-411a-948e-f6e4ee0cfc39",
   "metadata": {},
   "outputs": [],
   "source": []
  },
  {
   "cell_type": "code",
   "execution_count": null,
   "id": "9fcfa4a6-0a61-4c67-a607-f2b51d17f04e",
   "metadata": {},
   "outputs": [],
   "source": [
    "Q5. What is inheritance? Give an example for each type of inheritance."
   ]
  },
  {
   "cell_type": "code",
   "execution_count": null,
   "id": "218d33f1-c3bc-4cc1-a3de-761a29733166",
   "metadata": {},
   "outputs": [],
   "source": [
    "ans---Inheritance is a mechanism of acquiring the features and behaviors of a class by another class. \n",
    "The class whose members are inherited is called the base class, and the class that inherits those members is called \n",
    "the derived class. Inheritance implements the IS-A relationship.\n",
    "Different Types of Inheritance\n",
    "OOPs support the six different types of inheritance as given below :\n",
    "\n",
    "Single inheritance\n",
    "Multi-level inheritance\n",
    "Multiple inheritance\n",
    "Multipath inheritance\n",
    "Hierarchical Inheritance\n",
    "Hybrid Inheritance\n",
    "\n",
    "example-\n",
    "Single inheritance\n",
    "In this inheritance, a derived class is created from a single base class.\n",
    "In the given example, Class A is the parent class and Class B is the child class since Class B inherits\n",
    "the features and behavior of the parent class A.\n",
    "\"\"\"\n",
    "class A \n",
    "{\n",
    " public void fooA()\n",
    " {\n",
    " \n",
    " }\n",
    "}\n",
    "\n",
    "//Derived Class\n",
    "class B : A\n",
    "{\n",
    " public void fooB()\n",
    " {\n",
    "\n",
    " }\n",
    "}"
   ]
  },
  {
   "cell_type": "code",
   "execution_count": null,
   "id": "33c01dff-4930-407b-9176-c6e200739bd4",
   "metadata": {},
   "outputs": [],
   "source": [
    "\"\"\"\n",
    "Multi-level inheritance\n",
    "In this inheritance, a derived class is created from another derived class.\n",
    "In the given example, class c inherits the properties and behavior of class B and class B inherits the\n",
    "properties and behavior of class B. So, here A is the parent class of B and class B is the parent class of C.\n",
    "So, here class C implicitly inherits the properties and behavior of class A along with Class B i.e \n",
    "there is a multilevel of inheritance.\n",
    "\"\"\"\n",
    "//Base Class\n",
    "class A \n",
    "{\n",
    " public void fooA()\n",
    " {\n",
    "\n",
    " }\n",
    "}\n",
    "\n",
    "//Derived Class\n",
    "class B : A\n",
    "{\n",
    " public void fooB()\n",
    " {\n",
    "\n",
    " }\n",
    "}\n",
    "\n",
    "//Derived Class\n",
    "class C : B\n",
    "{\n",
    " public void fooC()\n",
    " {\n",
    "\n",
    " }\n",
    "}"
   ]
  }
 ],
 "metadata": {
  "kernelspec": {
   "display_name": "Python 3 (ipykernel)",
   "language": "python",
   "name": "python3"
  },
  "language_info": {
   "codemirror_mode": {
    "name": "ipython",
    "version": 3
   },
   "file_extension": ".py",
   "mimetype": "text/x-python",
   "name": "python",
   "nbconvert_exporter": "python",
   "pygments_lexer": "ipython3",
   "version": "3.10.6"
  }
 },
 "nbformat": 4,
 "nbformat_minor": 5
}
